{
 "cells": [
  {
   "attachments": {},
   "cell_type": "markdown",
   "metadata": {},
   "source": [
    "# Outliers\n",
    "\n",
    "### Main Take-Aways\n",
    "\n",
    "- There are different type of Outliers\n",
    "    - Global\n",
    "    - Collective\n",
    "    - Contextual Outliers\n",
    "- Detecting Outliers\n",
    "    - Visually (Box plots, scatter plots)\n",
    "    - Mathematically (z-score, IQR score)\n",
    "- How to handle Outliers\n",
    "\n",
    "---\n",
    "\n",
    "\n",
    "## Potential Questions\n",
    "\n",
    "#### What's the difference between _Noise_ and _Outliers_\n",
    "- Noise = incorrect values. Caused by human mistake, people lying in surveys, imprecise instruments etc.\n",
    "- Outliers = values that fall outside, of the norm. May or may not be incorrect. Example Wealth of Bill Gates compared to rest of the world.\n",
    "\n",
    "Noise is always bad and should be removed, but it's hard to identify them as noise. Some Noise might actually be outliers → needs to be investigated.\n",
    "Not all outliers are noise, if that's the case we don't want to remove it.\n",
    "\n",
    "---\n",
    "\n",
    "## The different types of Outliers\n",
    "\n",
    "#### Global Outliers (or point outliers)\n",
    "If an individual data point can be considered anomalous with respect to the rest of the data, then the datum is termed as a point outlier. Used for example for intrusion detection in computer networks.\n",
    "\n",
    "#### Collective Outliers\n",
    "If a collection of data points is anomalous with respect to the entire data set, it is termed as a collective outlier. Much harder to identify than global outliers. Often not a noise. Detect with e.g. _Anomaly Detection Algorithms_.\n",
    "\n",
    "#### Contextual Outliers\n",
    "If an individual data instance is anomalous in a specific context or condition (but not otherwise), then it is termed as a contextual outlier. Attributes of data object should be divided into two groups\n",
    "- Contextual attributes: defines the context. e.g., time & location\n",
    "- Behavioural attributes: characteristics of the object, used in outlier evaluation e.g. temperature\n",
    "\n",
    "---\n",
    "\n",
    "### How to Identify Outliers?\n",
    "**Mathematically**  \n",
    "- Z-Score: Points that are more than 3 times the standard deviation from the mean\n",
    "- IQR-Score (Interquartile Range) = Distance between 0.25-percentile and 0.75-percentile => Points that are more than 1.5*IQR out of range. \n",
    "\n",
    "**Visually**  \n",
    "- Single Variable => Boxplot\n",
    "- Two Variables => Scatter Plot\n",
    "\n",
    "\n",
    "### How to deal with outliers\n",
    "- If the Outlier is Noise => Remove Outlier\n",
    "- If the Outlier is not Noise => _It depends_\n",
    "![img/noise.jpg](img/noise.jpg)\n",
    "\n",
    "### Examples\n",
    "#### Global Outlier\n",
    "![img/global-outlier.png](img/global-outlier.png)\n",
    "#### Collective Outlier\n",
    "![img/collective-outliers.png](img/collective-outliers.png)\n",
    "#### Contextual Outlier\n",
    "![img/contextual-outlier.png](img/contextual-outlier.png)\n",
    "\n",
    "Global | Collective | Contextual\n",
    "\n",
    "\n",
    "\n"
   ]
  }
 ],
 "metadata": {
  "kernelspec": {
   "display_name": "Python 3",
   "language": "python",
   "name": "python3"
  },
  "language_info": {
   "codemirror_mode": {
    "name": "ipython",
    "version": 3
   },
   "file_extension": ".py",
   "mimetype": "text/x-python",
   "name": "python",
   "nbconvert_exporter": "python",
   "pygments_lexer": "ipython3",
   "version": "3.8.5"
  },
  "vscode": {
   "interpreter": {
    "hash": "43a903fe36b38cc5bc3c6ffc5b75ae50bab50c8d56bc914f66ebc140ba6708ef"
   }
  }
 },
 "nbformat": 4,
 "nbformat_minor": 2
}
