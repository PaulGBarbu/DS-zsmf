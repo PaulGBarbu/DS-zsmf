{
 "cells": [
  {
   "cell_type": "markdown",
   "metadata": {},
   "source": [
    "# Missing Values\n",
    "\n",
    "> Note:  \n",
    "    - **MCAR** = Missing Completly At Random  \n",
    "    - **MAR**  = Missing at Random  \n",
    "    - **MNAR** = Missing Not At Random  \n",
    "\n",
    "Main Take-Aways\n",
    "\n",
    "- **Missing Values**\n",
    "    - are very common in real-world dataset\n",
    "    - can cause severe problems when not treated properly\n",
    "    - very often are not treated properly\n",
    "- MCAR/ MAR/ MNAR, hard to decide which case => Domain knowledge is needed.\n",
    "- When **deleting** missing values\n",
    "    - Only safe if MCAR\n",
    "    - MAR and MNAR, will introduce **bias** in the model\n",
    "    - Will reduce the overall power of the model \n",
    "- Imputation, esp. multiple Imputation is the best approach if MAR or MCAR\n",
    "- If MNAR has to be assumed, there is no good solution.\n",
    "    - If missingness depends on not-collected feature => collect these feature (so that MAR holds) or collect data without missing values.\n",
    "    - If missingness depends on the missing values themselves: collect data without missing values"
   ]
  }
 ],
 "metadata": {
  "kernelspec": {
   "display_name": "Python 3",
   "language": "python",
   "name": "python3"
  },
  "language_info": {
   "codemirror_mode": {
    "name": "ipython",
    "version": 3
   },
   "file_extension": ".py",
   "mimetype": "text/x-python",
   "name": "python",
   "nbconvert_exporter": "python",
   "pygments_lexer": "ipython3",
   "version": "3.8.5"
  },
  "vscode": {
   "interpreter": {
    "hash": "43a903fe36b38cc5bc3c6ffc5b75ae50bab50c8d56bc914f66ebc140ba6708ef"
   }
  }
 },
 "nbformat": 4,
 "nbformat_minor": 2
}
