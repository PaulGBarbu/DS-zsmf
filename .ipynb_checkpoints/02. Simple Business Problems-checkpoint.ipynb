{
 "cells": [
  {
   "cell_type": "markdown",
   "metadata": {},
   "source": [
    "# Homework\n",
    "\n",
    "## Questions for Chapter 1\n",
    "_Quelle: Data Science for Business_\n",
    "\n",
    "### 1. What is the difference between Data Science and Data Mining?\n",
    "\n",
    "Data Mining is the **process of extracting** knowledge from data, while data science is a set of fundamental **principles to guide the extraction** of knowledge from data.\n",
    "\n",
    "\n",
    "### 2. Why does it make sense to understand data-analytic thinking\n",
    "To develop a skill of data-analytic thinking to evaluate ideas regarding data mining. For example, if an employee, a consultant, or a potential investment target proposes to improve a particular business application by extracting knowledge from data, you should be able to assess the proposal systematically and decide whether it is sound or flawed. This does not mean that you will be able to tell whether it will actually succeed—for data mining projects, that often requires trying—but you should be able to spot obvious flaws, unrealistic assumptions, and missing pieces.\n",
    "\n",
    "### 5. What does DDD stand for? Explain the concept. Why would a company want to employ DDD?\n",
    "Data-driven decision-making (DDD) refers to the practice of basing decisions on the analysis of data, rather than purely on intuition.\n",
    "Companies that use DDD are statistically more productive, efficent etc.. \n",
    "\n",
    "### 6. Why does data science overlap with DDD and not just support it\n",
    "\n",
    "### 7.  What does Big Data mean?"
   ]
  }
 ],
 "metadata": {
  "kernelspec": {
   "display_name": "Python 3",
   "language": "python",
   "name": "python3"
  },
  "language_info": {
   "codemirror_mode": {
    "name": "ipython",
    "version": 3
   },
   "file_extension": ".py",
   "mimetype": "text/x-python",
   "name": "python",
   "nbconvert_exporter": "python",
   "pygments_lexer": "ipython3",
   "version": "3.8.5"
  },
  "vscode": {
   "interpreter": {
    "hash": "43a903fe36b38cc5bc3c6ffc5b75ae50bab50c8d56bc914f66ebc140ba6708ef"
   }
  }
 },
 "nbformat": 4,
 "nbformat_minor": 2
}
