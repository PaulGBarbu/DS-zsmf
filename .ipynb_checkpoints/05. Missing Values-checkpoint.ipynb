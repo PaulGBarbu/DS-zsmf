{
 "cells": [
  {
   "cell_type": "markdown",
   "metadata": {},
   "source": [
    "# Missing Values\n",
    "\n",
    "> Note:  \n",
    "    - **MCAR** = Missing Completly At Random  \n",
    "    - **MAR**  = Missing at Random  \n",
    "    - **MNAR** = Missing Not At Random  \n",
    "\n",
    "### Main Take-Aways\n",
    "\n",
    "- **Missing Values**\n",
    "    - are very common in real-world dataset\n",
    "    - can cause severe problems when not treated properly\n",
    "    - very often are not treated properly\n",
    "- MCAR/ MAR/ MNAR, hard to decide which case => Domain knowledge is needed.\n",
    "- When **deleting** missing values\n",
    "    - Only safe if MCAR\n",
    "    - MAR and MNAR, will introduce **bias** in the model\n",
    "    - Will reduce the overall power of the model \n",
    "- Imputation, esp. multiple Imputation is the best approach if MAR or MCAR\n",
    "- If MNAR has to be assumed, there is no good solution.\n",
    "    - If missingness depends on not-collected feature => collect these feature (so that MAR holds) or collect data without missing values.\n",
    "    - If missingness depends on the missing values themselves: collect data without missing values\n",
    "\n",
    "---\n",
    "\n",
    "## Possible Questions:\n",
    "\n",
    "**What are the problems of missing data?**  \n",
    "Can cause severe problems _when not treated properly_, such as bias in the models.\n",
    "\n",
    "**What are the different _types_ of missing data and how do they need to be treated?**  \n",
    "<div style=\"display: flex; justify-content: center;\"><img src=\"img/Type_of_Missingness.jpg\" alt=\"Type_of_Missingness.png\" width=\"75%\" height2=\"614\"></div>\n",
    "\n",
    "**Was ist Imputation**  \n",
    "Imputation ist eine Art und Weise fehlende Daten aufzufüllen, ein relativ naiver Ansatz ist, den Mittelwert der Spalte für alle NaN's zu verwenden.\n",
    "\n",
    "**Was ist der Unterschied zwischen \"MNAR on not-collected features\" und \"MNAR on missing value itself\"**  \n",
    "- MNAR on not-collected features => Fehlende PLZ mit Zahl 0 am Anfang.\n",
    "    - Man kann unter Umständen mehr Feature collecten und dann mit _educated guesses_ Imputation durchführen.\n",
    "    - Alternative Lösung: Mehr Daten sammeln\n",
    "- MNAR on missing value itself => Personen mit Übergewicht geben ihr Gewicht in der Umfrage nicht an.\n",
    "    - Man kann keine Imputation anwenden, weil man ja nicht weiß was fehlt. Man wird ja hier kein _mean-weight_ hernehmen können...\n",
    "    - Lösung: Mehr Daten sammeln\n",
    "\n",
    "**Was ist das Problem mit Daten löschen?**  \n",
    "Je nachdem, um welchen Typ von _Missing Type_ es sich handelt, kann das zu einer stärkeren Verzerrung des Models führen (Fall MNAR). \n",
    "\n",
    "---\n",
    "\n",
    "# How to handle Missing Values\n",
    "<div style=\"display: flex; justify-content: center;\"><img src=\"img/Handling_Missing_Data.webp\" alt=\"Type_of_Missingness.png\" width=\"40%\" height2=\"614\"></div>\n",
    "\n",
    "## Deletion\n",
    "- Row-Wise: Delete all Rows with Missing Values\n",
    "- Column-Wise: Delete all Columns with Missing Values (Listwise Complete Case Analysis)\n",
    "- Pair-Wise: Work with the Data available e.g.:\n",
    "    - to compute the mean of column A, use all non-missing values in column A\n",
    "    - to compute the mean of column B, use all non-missing values in column B\n",
    "        - => can lead to _weird_ / unexpected results. Note: Different (number of) rows may be used for each mean!\n",
    "\n",
    "## Imputation\n",
    "\n",
    "### Simple Imputation  \n",
    "Replace missing values with _some_ other value. Most commonly with mean/median or mode (Modalwert) of subset of the row. In case of time-series data, take the previous or next value, or use interpolation. A **common mistake** is when using train/test (or k-fold cross validation), the imputed value must be computed on the train-set **only**. _(Which makes train/test and esp. k-fold-cross-validation much more complex to handle)_\n",
    "\n",
    "### Imputation: Missing Value Prediction  \n",
    "Predicting Missing Values from the other features. Can be as simple as a linear regression and go as far as using deep-learning. Basically we take the data we have with non-missing values, and try to predict the missing ones.\n",
    "\n",
    "### Multiple Imputation process  \n",
    "This method is similar to the previous one with the difference of using smaller datasets for the prediction, and then combining their outcome together to one prediction. Benefit: Less Bias."
   ]
  }
 ],
 "metadata": {
  "kernelspec": {
   "display_name": "Python 3",
   "language": "python",
   "name": "python3"
  },
  "language_info": {
   "codemirror_mode": {
    "name": "ipython",
    "version": 3
   },
   "file_extension": ".py",
   "mimetype": "text/x-python",
   "name": "python",
   "nbconvert_exporter": "python",
   "pygments_lexer": "ipython3",
   "version": "3.8.5"
  },
  "vscode": {
   "interpreter": {
    "hash": "43a903fe36b38cc5bc3c6ffc5b75ae50bab50c8d56bc914f66ebc140ba6708ef"
   }
  }
 },
 "nbformat": 4,
 "nbformat_minor": 2
}
