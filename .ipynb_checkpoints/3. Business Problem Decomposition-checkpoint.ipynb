{
 "cells": [
  {
   "cell_type": "markdown",
   "metadata": {},
   "source": [
    "### 1\\. Why do we want to decompose a data-analytics problem and into what kind of pieces?\n",
    "\n",
    "> A critical skill in data science is the ability to decompose a dataanalytics problem into pieces such that each piece matches a known task for which tools are available. Recognizing familiar problems and their solutions avoids wasting time and resources reinventing the wheel. It also allows people to focus attention on more interesting parts of the process that require human involvement - parts that have not been automated, so human creativity and intelligence must come in - to play.\n",
    "\n",
    "*Quelle: Seite 20*\n",
    "\n",
    "### 2\\. Explain the tasks \"classification\" and \"scoring\" and how they relate to each other!\n",
    "\n",
    "Classification categorizes data into classes, while scoring returns percentages describing how well a dataset fits into multiple classes.\n",
    "Example: *Object A fits 30% into class X and 70% into class Y.*\n",
    "\n",
    "### 3\\. What is the difference between Classification and Regression?\n",
    "\n",
    "> Regression is related to classification, but the two are different. Informally, classification predicts whether something will happen whereas regression predicts how much something will happen.\n",
    "\n",
    "### 4\\. What does Clustering do?\n",
    "\n",
    "> Clustering attempts to group individuals in a population together by their similarity, but not driven by any specific purpose. An example clustering question would be: \"Do our customers form natural groups or segments?\" Clustering is useful in preliminary domain exploration to see which natural groups exist because these groups in turn may suggest other data mining tasks or approaches.\n",
    "\n",
    "### 5\\. Describe the difference between supervised and unsupervised learning. Give one example for method for each type.\n",
    "\n",
    "**Supervised** learning is a machine learning approach that's defined by its use of labeled datasets (Classification/Regression). **Unsupervised** learning uses machine learning algorithms to analyze and cluster unlabeled data sets (Clustering/Association).\n",
    "\n",
    "### 6\\. What are the two phases of a machine learning/data mining system, and what is done in each of them?\n",
    "\n",
    "Phase 1: Mine the data, find patterns, build models.\n",
    "Phase 2: Use the data aka predict the class/cluster etc. of a new dataset\n",
    "\n",
    "### 7\\. Draw the CRISP DM process.\n",
    "\n",
    "<div style=\"display: flex; justify-content: center;\"><img src=\":/c63939646c0049268396a8365aea8207\" alt=\"23d1e330df6345395c5b20eb82ca6b84.png\" width=\"473\" height=\"395\" class=\"jop-noMdConv\" style=\"width: 33vw;\"></div>\n",
    "\n",
    "### 8\\. Explain each step of the CRISP DM process in 1-2 sentences in your own words.\n",
    "\n",
    "1.  Understand the business (problem)\n",
    "2.  Understand the Data. Does can the problem be solved with the given data? Did we actually understand the business problem?\n",
    "3.  Prepare Data for Modeling.\n",
    "4.  Model the data, remodel data if necessary\n",
    "5.  Evaluate the Model. Did we solve the problem? Did we get new insights for our problem to re-itarate?\n",
    "6.  Deploy\n",
    "\n",
    "### 9\\. Explain the difference between explanatory modelling and predictive modelling for regression analysis.\n",
    "\n",
    "Explanatory research aims to identify risk (or protective) factors that are causally related to an outcome. Predictive research aims to find the combination of factors that best predicts a current diagnosis or future event. This distinction affects every aspect of model building and evaluation.\n",
    "\n",
    "#### This difference essentially manifests in four characteristics\n",
    "\n",
    "1.  Explanatory models attempt to capture **cause and effect**. Predictive models attempt to capture **associations precisely**.\n",
    "    \n",
    "2.  Explanatory models tend to be **hypothesis-driven**. Predictive models tend to be **data-driven**.\n",
    "    \n",
    "3.  Explanatory models are **retrospective**. Predictive models are **prospective**.\n",
    "    \n",
    "4.  Explanatory models focus on **minimizing bias**. Predictive models focus on minimizing both **bias and estimation variance**.\n",
    "    \n",
    "**Quelle:** [towardsdatascience](https://towardsdatascience.com/i-built-a-predictive-model-is-b-s-a905077fe4)"
   ]
  }
 ],
 "metadata": {
  "kernelspec": {
   "display_name": "Python 3",
   "language": "python",
   "name": "python3"
  },
  "language_info": {
   "codemirror_mode": {
    "name": "ipython",
    "version": 3
   },
   "file_extension": ".py",
   "mimetype": "text/x-python",
   "name": "python",
   "nbconvert_exporter": "python",
   "pygments_lexer": "ipython3",
   "version": "3.8.5"
  }
 },
 "nbformat": 4,
 "nbformat_minor": 2
}
