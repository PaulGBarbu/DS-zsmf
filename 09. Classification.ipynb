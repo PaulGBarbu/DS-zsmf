{
 "cells": [
  {
   "cell_type": "markdown",
   "metadata": {},
   "source": [
    "# Classification\n",
    "\n",
    "Def. Learn how to assign a class label to observations (e.g. _spam_ or _not spam_). Popular Classification Algorithms (each with many variants)\n",
    "- Decision Trees\n",
    "- Logistic Regression\n",
    "- Support-Vector-Machines\n",
    "- Neural Networks\n",
    "\n",
    "### Types of Classification\n",
    "- **Binary Classification**: Two Class Labels, \n",
    "    - e.g. spam vs not-spam, \n",
    "    - Popular algorithms: Decision Trees, SVM, Logistic Regression, k-Nearest Neighbors, Naive Bayes\n",
    "- **Multi-Class Classification**: more than two class labels, \n",
    "    - e.g. plant species\n",
    "    - Popular algorithms: Decision Trees (XGBoost), kNN, Naive Bayes\n",
    "    - SVM/Logistic Regression can be used, if problem is adapted to One-vs-Rest/One-vs-One\n",
    "- **Multi-Label Classification**: >=2 class labels, one or more class labels for each observation\n",
    "    - e.g. identify object in picture\n",
    "    - Popular algorithms: Multi-Label Version e.g. of Decision Trees\n",
    "\n",
    "### Classification with strongly imbalanced class distributions\n",
    "Special issues in case of strongly imbalanced class distributions e.g. Fraud Detection.\n",
    "- **Approach 1**: Change composition of the observations in the training data aka undersample the majority class or oversample the minority class\n",
    "- **Approach 2**: Use specialized algorithms for modelling, that pay more _attention_ to the minority class"
   ]
  }
 ],
 "metadata": {
  "kernelspec": {
   "display_name": "Python 3",
   "language": "python",
   "name": "python3"
  },
  "language_info": {
   "codemirror_mode": {
    "name": "ipython",
    "version": 3
   },
   "file_extension": ".py",
   "mimetype": "text/x-python",
   "name": "python",
   "nbconvert_exporter": "python",
   "pygments_lexer": "ipython3",
   "version": "3.8.5"
  },
  "vscode": {
   "interpreter": {
    "hash": "43a903fe36b38cc5bc3c6ffc5b75ae50bab50c8d56bc914f66ebc140ba6708ef"
   }
  }
 },
 "nbformat": 4,
 "nbformat_minor": 2
}
