{
 "cells": [
  {
   "attachments": {},
   "cell_type": "markdown",
   "metadata": {},
   "source": [
    "# Model Evaluation\n",
    "\n",
    "## TODO: Read Chapter 7 & 8 in DSB\n",
    "\n",
    "#### Things to know...\n",
    "- Confusion Matrix\n",
    "- Cost benefit Matrix\n",
    "\n",
    "### Binary Classification\n",
    "\n",
    "\n",
    "### Cost-Benefit-Matrix for binary Classification\n",
    "1. Define what _positive_ and _negative_ is\n",
    "    - Example: negative == young abalone, positive == old abalone\n",
    "2. Define what TN, TP, FN, FP mean\n",
    "    - TN = the abalone was classified as Young and really is Young\n",
    "    - FP = the abalone was classified as Old but really is Young\n",
    "    - FN = the abalone was classified as Young but really is Old\n",
    "    - TP = the abalone was classified as Old and really is Old\n",
    "3. Assign action and cost/benefit to each of TN, TP, FN, FP\n",
    "    - TN: we do not sell and loose 2€\n",
    "    - FP: we do sell illegally and have to pay the fine, i.e. we loose 402€\n",
    "    - FN: we do not sell and loose 2€\n",
    "    - TP: we sell the abalone and make a profit of 18€\n",
    "\n",
    "<div style=\"display: flex; justify-content: center;\"><img src=\"img/matrix.JPG\" alt=\"Matrix\" width=\"40%\" height2=\"614\"></div>\n",
    "\n",
    "## Profit Chart\n",
    "The profit chart shows the cumulative profit, if the dataset is sorted by score and then sold accordingly. As one can see. With unlimited Budget the smartest move would be to choose the _Classifier 2_ and send the marketing stuff to only the 50% best customers. But we might be constrained by Money. Let's say our budget is 40.000€ => we can afford to target 8% of customers with that money. => Look at the max profit at 8% targeted customers => it's classifier 1.\n",
    "\n",
    "(Graph is from another example not from the abalone one!)\n",
    "\n",
    "![Profit Chart](img/profit_chart.JPG)\n",
    "\n",
    "## Gain Chart and Lift Chart\n",
    "\n",
    "#### Build a Gain Chart and a Lift\n",
    "1. Predict the probability for (e.g. positive) using the model and arrange the observation in the decreasing order of predicted probability (most likely to the least likely)\n",
    "2. Divide the data sets into smaller data sets (e.g. deciles) calculate the number of positives in each subset and the cumulative number of positives up to a subset\n",
    "3. **Gain** is the ratio between the cumulative number of positive observations up to a subset to the total number of positive observations in the data. The gain chart is a chart drawn between the gain on the vertical axis and the subset on the horizontal axis.\n",
    "4. **Lift** is the ratio of the number of positive observations up to a subset $n$ using the model to the expected number of positives up to that decile $n$ based on a random model. Lift chart is the chart between the lift on the vertical axis and the corresponding subset on the horizontal axis \n",
    "\n",
    "![Gain_Lift_Chart](img/gain_lift_chart.JPG)\n",
    "\n",
    "## ROC and AUC\n",
    "![ROC AUC](img/ROC.JPG)"
   ]
  }
 ],
 "metadata": {
  "kernelspec": {
   "display_name": "Python 3",
   "language": "python",
   "name": "python3"
  },
  "language_info": {
   "codemirror_mode": {
    "name": "ipython",
    "version": 3
   },
   "file_extension": ".py",
   "mimetype": "text/x-python",
   "name": "python",
   "nbconvert_exporter": "python",
   "pygments_lexer": "ipython3",
   "version": "3.8.5"
  },
  "vscode": {
   "interpreter": {
    "hash": "43a903fe36b38cc5bc3c6ffc5b75ae50bab50c8d56bc914f66ebc140ba6708ef"
   }
  }
 },
 "nbformat": 4,
 "nbformat_minor": 2
}
