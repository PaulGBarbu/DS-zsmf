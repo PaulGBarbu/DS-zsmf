{
 "cells": [
  {
   "attachments": {},
   "cell_type": "markdown",
   "metadata": {},
   "source": [
    "# Visualization\n",
    "\n",
    "I dont think this is really relevant for the exam (?)"
   ]
  }
 ],
 "metadata": {
  "kernelspec": {
   "display_name": "base",
   "language": "python",
   "name": "python3"
  },
  "language_info": {
   "name": "python",
   "version": "3.8.5 (default, Sep  3 2020, 21:29:08) [MSC v.1916 64 bit (AMD64)]"
  },
  "orig_nbformat": 4,
  "vscode": {
   "interpreter": {
    "hash": "43a903fe36b38cc5bc3c6ffc5b75ae50bab50c8d56bc914f66ebc140ba6708ef"
   }
  }
 },
 "nbformat": 4,
 "nbformat_minor": 2
}
