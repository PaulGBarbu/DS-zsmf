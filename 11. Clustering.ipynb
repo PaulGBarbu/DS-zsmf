{
 "cells": [
  {
   "attachments": {},
   "cell_type": "markdown",
   "metadata": {},
   "source": [
    "# Clustering\n",
    "\n",
    "## TODO: Read Chapter 6 in DSB\n",
    "\n",
    "**Definition:** Cluster analysis or clustering is the task of grouping a set of objects in such a way that objects in the same group (called a cluster) are more similar (in some sense) to each other than to those in other groups (clusters)\n",
    "\n",
    "**Use Cases:**\n",
    "- market segmentation\n",
    "- social network analysis\n",
    "- search result grouping\n",
    "- medical imaging\n",
    "- image segmentation\n",
    "- anomaly detection\n",
    "\n",
    "\n",
    "#### kNN\n",
    "kNN suffers from the _curse of dimensionality_ meaning that, with more dimensions the model is going to get worse. A possible way to fix this is to remove irrelevant attributes. Another way would be to assign weights to the attributes by using domain knowledge.\n",
    "\n",
    "Problem with calculating distances. Categorical values (if binary can be encoded to 0/1). Numerical Values with big ranges. Age is 18 - 100 while income is 10€ to 1.000.000€"
   ]
  }
 ],
 "metadata": {
  "kernelspec": {
   "display_name": "Python 3",
   "language": "python",
   "name": "python3"
  },
  "language_info": {
   "codemirror_mode": {
    "name": "ipython",
    "version": 3
   },
   "file_extension": ".py",
   "mimetype": "text/x-python",
   "name": "python",
   "nbconvert_exporter": "python",
   "pygments_lexer": "ipython3",
   "version": "3.8.5 (default, Sep  3 2020, 21:29:08) [MSC v.1916 64 bit (AMD64)]"
  },
  "vscode": {
   "interpreter": {
    "hash": "43a903fe36b38cc5bc3c6ffc5b75ae50bab50c8d56bc914f66ebc140ba6708ef"
   }
  }
 },
 "nbformat": 4,
 "nbformat_minor": 2
}
